{
  "nbformat": 4,
  "nbformat_minor": 0,
  "metadata": {
    "colab": {
      "provenance": []
    },
    "kernelspec": {
      "name": "python3",
      "display_name": "Python 3"
    },
    "language_info": {
      "name": "python"
    }
  },
  "cells": [
    {
      "cell_type": "code",
      "execution_count": null,
      "metadata": {
        "id": "nvKG3IILS0ti"
      },
      "outputs": [],
      "source": [
        "#AREA OF RECTANGLE"
      ]
    },
    {
      "cell_type": "code",
      "source": [
        "h=int(input('enter a no.'))\n",
        "w=int(input('enter a no.'))\n",
        "A=h*w\n",
        "print(A)"
      ],
      "metadata": {
        "colab": {
          "base_uri": "https://localhost:8080/"
        },
        "id": "KhCewiHBTI0D",
        "outputId": "f587eef9-1e65-4e43-b7f0-c816ec1da251"
      },
      "execution_count": 1,
      "outputs": [
        {
          "output_type": "stream",
          "name": "stdout",
          "text": [
            "enter a no.5\n",
            "enter a no.2\n",
            "10\n"
          ]
        }
      ]
    },
    {
      "cell_type": "code",
      "source": [
        "#2 sum, difference , multiplication and quotient"
      ],
      "metadata": {
        "id": "hYFyhykUTWlG"
      },
      "execution_count": 2,
      "outputs": []
    },
    {
      "cell_type": "code",
      "source": [
        "x =int (input('enter a no.'))\n",
        "y =int (input('enter a no.'))\n",
        "s=x+y\n",
        "d=x-y\n",
        "p=x*y\n",
        "q=x/y\n",
        "print(s)\n",
        "print(d)\n",
        "print(p)\n",
        "print(q)"
      ],
      "metadata": {
        "colab": {
          "base_uri": "https://localhost:8080/"
        },
        "id": "ew4p084cTo-q",
        "outputId": "1e8cf10a-b8c5-4dde-8420-f5b71ffac242"
      },
      "execution_count": 4,
      "outputs": [
        {
          "output_type": "stream",
          "name": "stdout",
          "text": [
            "enter a no.4\n",
            "enter a no.2\n",
            "6\n",
            "2\n",
            "8\n",
            "2.0\n"
          ]
        }
      ]
    },
    {
      "cell_type": "code",
      "source": [
        "#3 convert temp to fahrenheit and  fahrenheit to temp\n"
      ],
      "metadata": {
        "id": "boi3WJawULAK"
      },
      "execution_count": 5,
      "outputs": []
    },
    {
      "cell_type": "code",
      "source": [
        "from re import T\n",
        "f=float(input('enter a no.'))\n",
        "t=(f-32)*5/9\n",
        "print(t)\n"
      ],
      "metadata": {
        "colab": {
          "base_uri": "https://localhost:8080/"
        },
        "id": "k9K6XJAnUXjY",
        "outputId": "b4e5ba05-fa63-4578-9a0c-e1593aefc54c"
      },
      "execution_count": 6,
      "outputs": [
        {
          "output_type": "stream",
          "name": "stdout",
          "text": [
            "enter a no.95\n",
            "35.0\n"
          ]
        }
      ]
    },
    {
      "cell_type": "code",
      "source": [
        "t=float(input('enter a no.'))\n",
        "f=(t*9/5)+32\n",
        "print(f)"
      ],
      "metadata": {
        "colab": {
          "base_uri": "https://localhost:8080/"
        },
        "id": "yclCwQ8bU2ka",
        "outputId": "de8d1974-c8a0-4955-cd70-d0cfe4945069"
      },
      "execution_count": 7,
      "outputs": [
        {
          "output_type": "stream",
          "name": "stdout",
          "text": [
            "enter a no.35\n",
            "95.0\n"
          ]
        }
      ]
    },
    {
      "cell_type": "code",
      "source": [
        "#4 no. is +ve or -ve\n"
      ],
      "metadata": {
        "id": "ZCyXl-P3VbyK"
      },
      "execution_count": 8,
      "outputs": []
    },
    {
      "cell_type": "code",
      "source": [
        "n=int(input('enter a number'))\n",
        "if x>0:\n",
        "  print('no. is positive')\n",
        "else:\n",
        "  print('no. is negative')\n"
      ],
      "metadata": {
        "colab": {
          "base_uri": "https://localhost:8080/"
        },
        "id": "jzJdJilAVmlZ",
        "outputId": "f8da494d-6265-4c8e-b8bc-ae5f36bd1dc8"
      },
      "execution_count": 11,
      "outputs": [
        {
          "output_type": "stream",
          "name": "stdout",
          "text": [
            "enter a number5\n",
            "no. is positive\n"
          ]
        }
      ]
    },
    {
      "cell_type": "code",
      "source": [
        "#5 write a python function that determine  leap year"
      ],
      "metadata": {
        "id": "u2pIZ16sV6ve"
      },
      "execution_count": 12,
      "outputs": []
    },
    {
      "cell_type": "code",
      "source": [
        "y=int(input('enter the year'))\n",
        "if y%4==0:\n",
        "  print('IT IS A LEAP YEAR')\n",
        "elif y%4!=0:\n",
        "  print('IT IS NOT  A LEAP YEAR')\n",
        "elif y%400==0:\n",
        "  print('IT IS A LEAP YEAR')\n",
        "elif y%400!=0:\n",
        "  print('IT IS NOT  A LEAP YEAR')\n",
        "\n"
      ],
      "metadata": {
        "colab": {
          "base_uri": "https://localhost:8080/"
        },
        "id": "NBXpYKGEWk1p",
        "outputId": "87935df0-c6ac-4cc4-e763-27a9a6bfa2f8"
      },
      "execution_count": 14,
      "outputs": [
        {
          "output_type": "stream",
          "name": "stdout",
          "text": [
            "enter the year2005\n",
            "IT IS NOT  A LEAP YEAR\n"
          ]
        }
      ]
    },
    {
      "cell_type": "code",
      "source": [
        "#6 grade scale\n"
      ],
      "metadata": {
        "id": "U5GipayRXjED"
      },
      "execution_count": 15,
      "outputs": []
    },
    {
      "cell_type": "code",
      "source": [
        "m=int(input('enter mark'))\n",
        "if m>90:\n",
        "  print('A')\n",
        "elif m>80:\n",
        "  print('B')\n",
        "elif m>70:\n",
        "  print('C')\n",
        "elif m>50:\n",
        "  print('D')\n",
        "else:\n",
        "  print('F')"
      ],
      "metadata": {
        "colab": {
          "base_uri": "https://localhost:8080/"
        },
        "id": "jeo_B61vXqhJ",
        "outputId": "36d23f93-c2bb-4eed-de84-e4d669d573cc"
      },
      "execution_count": 17,
      "outputs": [
        {
          "output_type": "stream",
          "name": "stdout",
          "text": [
            "enter mark91\n",
            "A\n"
          ]
        }
      ]
    },
    {
      "cell_type": "code",
      "source": [
        "#7 print 10 to 1"
      ],
      "metadata": {
        "id": "-nJ2jL6DX2FJ"
      },
      "execution_count": 18,
      "outputs": []
    },
    {
      "cell_type": "code",
      "source": [
        "for n in range(10,0,-1):\n",
        "  print(n)\n"
      ],
      "metadata": {
        "colab": {
          "base_uri": "https://localhost:8080/"
        },
        "id": "_RYN6YfEYlhp",
        "outputId": "b3440308-81d2-4eff-f3e5-16e97238e1bd"
      },
      "execution_count": 21,
      "outputs": [
        {
          "output_type": "stream",
          "name": "stdout",
          "text": [
            "10\n",
            "9\n",
            "8\n",
            "7\n",
            "6\n",
            "5\n",
            "4\n",
            "3\n",
            "2\n",
            "1\n"
          ]
        }
      ]
    },
    {
      "cell_type": "code",
      "source": [
        "#8 print even no.s from 1 to 20"
      ],
      "metadata": {
        "id": "6ItZtEDQYqo5"
      },
      "execution_count": 22,
      "outputs": []
    },
    {
      "cell_type": "code",
      "source": [
        "for n in range(1,21):\n",
        "  if n%2==0:\n",
        "    print(n)\n"
      ],
      "metadata": {
        "colab": {
          "base_uri": "https://localhost:8080/"
        },
        "id": "z5ekogo3Y7lJ",
        "outputId": "cbfed62c-53ff-4ebd-82b4-a6b1313325b4"
      },
      "execution_count": 23,
      "outputs": [
        {
          "output_type": "stream",
          "name": "stdout",
          "text": [
            "2\n",
            "4\n",
            "6\n",
            "8\n",
            "10\n",
            "12\n",
            "14\n",
            "16\n",
            "18\n",
            "20\n"
          ]
        }
      ]
    },
    {
      "cell_type": "code",
      "source": [
        "#9 multiplication table"
      ],
      "metadata": {
        "id": "jCK8PjbVZROp"
      },
      "execution_count": 24,
      "outputs": []
    },
    {
      "cell_type": "code",
      "source": [
        "n=int(input('enter a no.'))\n",
        "for i in range(1,11):\n",
        "  print(i,'*',n,'=',i*n)"
      ],
      "metadata": {
        "colab": {
          "base_uri": "https://localhost:8080/"
        },
        "id": "2gfqVkSAZXiZ",
        "outputId": "a3e2bb58-fe85-437c-ac32-60992336c53f"
      },
      "execution_count": 25,
      "outputs": [
        {
          "output_type": "stream",
          "name": "stdout",
          "text": [
            "enter a no.2\n",
            "1 * 2 = 2\n",
            "2 * 2 = 4\n",
            "3 * 2 = 6\n",
            "4 * 2 = 8\n",
            "5 * 2 = 10\n",
            "6 * 2 = 12\n",
            "7 * 2 = 14\n",
            "8 * 2 = 16\n",
            "9 * 2 = 18\n",
            "10 * 2 = 20\n"
          ]
        }
      ]
    },
    {
      "cell_type": "code",
      "source": [],
      "metadata": {
        "id": "ISpN-0C9aBb5"
      },
      "execution_count": null,
      "outputs": []
    }
  ]
}